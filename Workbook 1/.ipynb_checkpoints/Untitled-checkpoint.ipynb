{
 "cells": [
  {
   "cell_type": "markdown",
   "metadata": {},
   "source": [
    "<h1 style=\"font-size:42px; text-align:center; margin-bottom:30px;\"><span style=\"color:SteelBlue\">Module 1:</span> The Briefing Room</h1>\n",
    "<hr>\n",
    "\n",
    "Welcome to the Machine Learning for Pharmacists Program 2019. The curriculum for this program was adopted from www.elitedatascience.com\n",
    "\n",
    "Welcome to your first **Companion Workbook** for the course!\n",
    "\n",
    "Every workbook has a video link attached to it. Here's a link for this: https://www.youtube.com/watch?v=t2sQq5tpZEo\n",
    "\n",
    "Companion Workbooks are Jupyter notebooks set up for you to do 3 things:\n",
    "1. Practice writing key lesson code for yourself.\n",
    "2. Run any \"mission-critical\" code needed to complete the project.\n",
    "3. Complete the exercises throughout this course.\n",
    "\n",
    "As you'll notice, some workbooks will be longer and others will be shorter. Some modules won't even have Companion Workbooks. For those, the focus is on introducing concepts you'll apply later via recorded videos.\n",
    "\n",
    "### Instructions\n",
    "\n",
    "As you go through the online lessons via YouTube or downloaded videos on Slack, follow along in the Companion Workbooks. We recommend reading the lesson first, then completing its accompanying section in the workbook.\n",
    "\n",
    "In this first Companion Workbook, for <span style=\"color:royalblue\">Module 1: The Briefing Room</span>, you won't be writing a lot of code.\n",
    "\n",
    "Instead, we'll mainly be introducing you to some key functionality in Jupyter notebooks, and then confirming you have all the required libraries properly installed.\n",
    "\n",
    "<br><hr id=\"toc\">\n",
    "\n",
    "### In this module...\n",
    "\n",
    "In this module, we'll arm you with the best tools for tackling machine learning.\n",
    "\n",
    "We'll cover...\n",
    "\n",
    "1. [Intro to Practical Machine Learning](#intro)\n",
    "2. [The Machine Learning Masterclass](#masterclass)\n",
    "3. [Your Arsenal](#arsenal)\n",
    "4. [How to Crush this Course](#crush) (like the HULK)\n",
    "\n",
    "Alright... Let's dive right in!\n",
    "\n",
    "<hr>"
   ]
  },
  {
   "cell_type": "code",
   "execution_count": null,
   "metadata": {},
   "outputs": [],
   "source": []
  }
 ],
 "metadata": {
  "kernelspec": {
   "display_name": "Python 3",
   "language": "python",
   "name": "python3"
  },
  "language_info": {
   "codemirror_mode": {
    "name": "ipython",
    "version": 3
   },
   "file_extension": ".py",
   "mimetype": "text/x-python",
   "name": "python",
   "nbconvert_exporter": "python",
   "pygments_lexer": "ipython3",
   "version": "3.7.1"
  }
 },
 "nbformat": 4,
 "nbformat_minor": 2
}
