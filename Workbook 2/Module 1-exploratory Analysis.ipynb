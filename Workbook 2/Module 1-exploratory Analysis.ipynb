{
 "cells": [
  {
   "cell_type": "markdown",
   "metadata": {},
   "source": [
    "<h1 style=\"font-size:42px; text-align:center; margin-bottom:30px;\"><span style=\"color:SteelBlue\">Module 1:</span> Exploratory Analysis</h1>\n",
    "<hr>\n",
    "\n",
    "Welcome to the workbook for <span style=\"color:royalblue\">Module 1: Exploratory Analysis</span>!\n",
    "\n",
    "Our goal with this step is to \"get to know\" the data. \n",
    "* Think of it like a \"first date.\" \n",
    "* Try to learn as much about the data as possible, but don't invest too much time and get stuck on this step.\n",
    "* You'll probably need to do ad-hoc data exploration later anyway, so you don't need to be 100% comprehensive right now.\n",
    "\n",
    "<br><hr id=\"toc\">\n",
    "\n",
    "### In this module...\n",
    "\n",
    "In this module, we'll go through the essential exploratory analysis steps:\n",
    "1. [Basic information](#basic)\n",
    "2. [Distributions of numeric features](#numeric)\n",
    "3. [Distributions of categorical features](#categorical)\n",
    "4. [Segmentations](#segmentations)\n",
    "5. [Correlations](#correlations)\n",
    "\n",
    "Along the way, we'll note the practical implications of our findings.\n",
    "\n",
    "<br>\n",
    "**(Reminder) To run a code cell...** \n",
    "1. Click anywhere in the cell to select it.\n",
    "2. Press <code style=\"color:steelblue\">Shift + Enter</code> to run the code.\n",
    "3. You can insert new code cells using the **Insert** dropdown in the toolbar at the top.\n",
    "<br><hr>"
   ]
  },
  {
   "cell_type": "markdown",
   "metadata": {},
   "source": [
    "### First, let's import libraries and load the dataset.\n",
    "\n",
    "In general, it's good practice to keep all of your library imports at the top of your notebook or program.\n",
    "\n",
    "Before we do anything else, let's import the <code style=\"color:steelblue\">print()</code> function from the future to ensure our code is compatible with Python 3."
   ]
  },
  {
   "cell_type": "code",
   "execution_count": 2,
   "metadata": {},
   "outputs": [
    {
     "name": "stdout",
     "output_type": "stream",
     "text": [
      "print funtion ready to serve\n"
     ]
    }
   ],
   "source": [
    "from __future__ import print_function # Compatability with python 3\n",
    "print('print funtion ready to serve')"
   ]
  },
  {
   "cell_type": "markdown",
   "metadata": {},
   "source": [
    "Next, let's import libraries we'll need for this module"
   ]
  },
  {
   "cell_type": "code",
   "execution_count": null,
   "metadata": {},
   "outputs": [],
   "source": [
    "# Numpy for numerical computing\n",
    "import numpy as np\n",
    "\n",
    "# Pandas for Dataframes\n",
    "import pandas as pd\n",
    "pd.set_option('display.max_cloumns', 100)\n",
    "\n",
    "#Matplotlib for visualization\n",
    "from matplotlib import pyplot as plt\n",
    "\n",
    "# Seaborn for easier visualization\n",
    "import seaborn as sns"
   ]
  },
  {
   "cell_type": "code",
   "execution_count": null,
   "metadata": {},
   "outputs": [],
   "source": [
    "# Load real estate data from csv\n",
    "df = pd.read_csv('project_files/real_estate_data.csv')"
   ]
  },
  {
   "cell_type": "markdown",
   "metadata": {},
   "source": [
    "Now we're ready to jump into exploring the data"
   ]
  },
  {
   "cell_type": "markdown",
   "metadata": {},
   "source": [
    "\n",
    "#1. Basic information\n",
    "\n",
    "First, always look at basic information about dataset.\n",
    "\n",
    "Display the dimensions of the dataset."
   ]
  },
  {
   "cell_type": "code",
   "execution_count": null,
   "metadata": {},
   "outputs": [],
   "source": [
    "# Dataframe dimensions\n",
    "df.shape"
   ]
  },
  {
   "cell_type": "code",
   "execution_count": null,
   "metadata": {},
   "outputs": [],
   "source": []
  }
 ],
 "metadata": {
  "kernelspec": {
   "display_name": "Python 3",
   "language": "python",
   "name": "python3"
  },
  "language_info": {
   "codemirror_mode": {
    "name": "ipython",
    "version": 3
   },
   "file_extension": ".py",
   "mimetype": "text/x-python",
   "name": "python",
   "nbconvert_exporter": "python",
   "pygments_lexer": "ipython3",
   "version": "3.7.1"
  }
 },
 "nbformat": 4,
 "nbformat_minor": 2
}
